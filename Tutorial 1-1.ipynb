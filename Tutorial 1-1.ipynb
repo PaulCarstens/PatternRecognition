{
 "cells": [
  {
   "cell_type": "markdown",
   "metadata": {},
   "source": [
    "Type in text here"
   ]
  },
  {
   "cell_type": "markdown",
   "metadata": {},
   "source": [
    "Here I will show how to do a simple for loop and a simple while loop"
   ]
  },
  {
   "cell_type": "markdown",
   "metadata": {},
   "source": [
    "For a for loop in python, give it a variable, a range, and then a semicolon. Don't forget to tab in whatever you are looping over. "
   ]
  },
  {
   "cell_type": "code",
   "execution_count": 11,
   "metadata": {},
   "outputs": [
    {
     "name": "stdout",
     "output_type": "stream",
     "text": [
      "Wow Rachael is cool\n",
      "Wow Rachael is cool\n",
      "Wow Rachael is cool\n",
      "Wow Rachael is cool\n",
      "Wow Rachael is cool\n"
     ]
    }
   ],
   "source": [
    "for x in range (5):\n",
    "    print (\"Wow Rachael is cool\")"
   ]
  },
  {
   "cell_type": "markdown",
   "metadata": {},
   "source": [
    "For a while loop, give it a condition, and anything inside the while loop needs to be indented"
   ]
  },
  {
   "cell_type": "code",
   "execution_count": 14,
   "metadata": {},
   "outputs": [
    {
     "name": "stdout",
     "output_type": "stream",
     "text": [
      "Rachael is the best python teacher\n",
      "Rachael is the best python teacher\n",
      "Rachael is the best python teacher\n",
      "Rachael is the best python teacher\n"
     ]
    }
   ],
   "source": [
    "count = 4\n",
    "while (count > 0):\n",
    "    print (\"Rachael is the best python teacher\")\n",
    "    count = count - 1"
   ]
  }
 ],
 "metadata": {
  "kernelspec": {
   "display_name": "Python 3",
   "language": "python",
   "name": "python3"
  },
  "language_info": {
   "codemirror_mode": {
    "name": "ipython",
    "version": 3
   },
   "file_extension": ".py",
   "mimetype": "text/x-python",
   "name": "python",
   "nbconvert_exporter": "python",
   "pygments_lexer": "ipython3",
   "version": "3.6.3"
  }
 },
 "nbformat": 4,
 "nbformat_minor": 2
}
