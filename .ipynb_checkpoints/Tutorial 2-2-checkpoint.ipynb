{
 "cells": [
  {
   "cell_type": "markdown",
   "metadata": {},
   "source": [
    "# Loading and browsing data sets included with sciket-learn\n"
   ]
  },
  {
   "cell_type": "markdown",
   "metadata": {},
   "source": [
    "scikit-learn comes with a few small standard datasets that do not require to download any file from some external website.\n",
    "\n",
    "Name | Description\n",
    "-----|------------\n",
    "load_boston | Load and return the boston house-prices dataset (regression).\n",
    "load_iris | Load and return the iris dataset (classification).\n",
    "load_diabetes | Load and return the diabetes dataset (regression).\n",
    "load_digits  | Load and return the digits dataset (classification).\n",
    "load_linnerud | Load and return the linnerud dataset (multivariate regression).\n",
    "load_wine | Load and return the wine dataset (classification).\n",
    "load_breast_cancer | Load and return the breast cancer wisconsin dataset (classification).\n",
    "\n",
    "These datasets are useful to quickly illustrate the behavior of the various algorithms implemented in the scikit. "
   ]
  },
  {
   "cell_type": "markdown",
   "metadata": {},
   "source": [
    "## Iris Dataset\n",
    "\n",
    "http://scikit-learn.org/stable/auto_examples/datasets/plot_iris_dataset.html#sphx-glr-auto-examples-datasets-plot-iris-dataset-py\n",
    "    "
   ]
  },
  {
   "cell_type": "code",
   "execution_count": null,
   "metadata": {},
   "outputs": [],
   "source": []
  }
 ],
 "metadata": {
  "kernelspec": {
   "display_name": "Python 3",
   "language": "python",
   "name": "python3"
  },
  "language_info": {
   "codemirror_mode": {
    "name": "ipython",
    "version": 3
   },
   "file_extension": ".py",
   "mimetype": "text/x-python",
   "name": "python",
   "nbconvert_exporter": "python",
   "pygments_lexer": "ipython3",
   "version": "3.6.3"
  }
 },
 "nbformat": 4,
 "nbformat_minor": 2
}
