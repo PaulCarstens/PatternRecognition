{
 "cells": [
  {
   "cell_type": "markdown",
   "metadata": {},
   "source": [
    "Name: Matthew Williams\n",
    "Class: Pattern Recognition Spring 2018\n",
    "\n",
    "# HW1 \n",
    "In this I evaluate three classifiers and determine which is the most optimal."
   ]
  },
  {
   "cell_type": "markdown",
   "metadata": {},
   "source": [
    "## Problem Description\n",
    "Given three classifiers\n"
   ]
  },
  {
   "cell_type": "markdown",
   "metadata": {},
   "source": [
    "## Solution Method\n",
    "First I will import the data\n"
   ]
  },
  {
   "cell_type": "markdown",
   "metadata": {},
   "source": [
    "## Input\n",
    "Load and pre-process data"
   ]
  },
  {
   "cell_type": "code",
   "execution_count": 2,
   "metadata": {},
   "outputs": [],
   "source": [
    "from sklearn import datasets\n",
    "from sklearn.model_selection import train_test_split\n",
    "import numpy as np\n",
    "import matplotlib.pyplot as plt\n",
    "\n",
    "# first we make a data set to train and test on\n",
    "X, y = datasets.make_classification(n_samples=100, n_features=8, n_informative=3, \n",
    "                                      n_classes=2, class_sep=0.7, random_state=1)\n",
    "\n",
    "# we divide this into a training set and a testing set\n",
    "X_train, X_test, y_train, y_test = train_test_split(X, y, random_state=0)\n",
    "\n",
    "# then we create a new dataset to classify later with our best classifier\n",
    "X_new, _ = datasets.make_classification(n_samples=5, n_features=8, n_informative=3, \n",
    "                                      n_classes=2, class_sep=0.7, random_state=42)"
   ]
  },
  {
   "cell_type": "code",
   "execution_count": 3,
   "metadata": {},
   "outputs": [
    {
     "name": "stderr",
     "output_type": "stream",
     "text": [
      "C:\\Users\\matth\\Anaconda3\\lib\\site-packages\\sklearn\\neural_network\\multilayer_perceptron.py:564: ConvergenceWarning: Stochastic Optimizer: Maximum iterations (200) reached and the optimization hasn't converged yet.\n",
      "  % self.max_iter, ConvergenceWarning)\n"
     ]
    }
   ],
   "source": [
    "from sklearn.svm import SVC\n",
    "from sklearn import tree\n",
    "from sklearn import neural_network\n",
    "\n",
    "# we create three classifiers, an SVC, a decision tree, and a neural network\n",
    "svc = SVC(kernel='poly', C=1,probability=True)\n",
    "dtr = tree.DecisionTreeClassifier(max_depth=4)\n",
    "ann = neural_network.MLPClassifier(random_state=1)\n",
    "\n",
    "# we combine them into a list for ease of use\n",
    "clf_list = (svc,dtr,ann) # list o' classifiers\n",
    "\n",
    "# Train all the classifiers in a for loop, just because we can\n",
    "for clf in clf_list:\n",
    "    clf.fit(X_train,y_train)\n",
    "    \n",
    "# Expect to see an error message about the neural network not converging below..."
   ]
  },
  {
   "cell_type": "markdown",
   "metadata": {},
   "source": [
    "## Analysis\n",
    "Do all the work here\n"
   ]
  },
  {
   "cell_type": "markdown",
   "metadata": {},
   "source": [
    "## Results\n",
    "Produce the lovely plots and/or data tables that best visualization your solution"
   ]
  },
  {
   "cell_type": "markdown",
   "metadata": {},
   "source": [
    "## Discussion\n",
    "Explain and interpret your results.  Explain how your results solve the problem.  Also describe anything interesting you discovered along the way, or lessons learned, or how you overcame problems you encountered.     "
   ]
  }
 ],
 "metadata": {
  "kernelspec": {
   "display_name": "Python 3",
   "language": "python",
   "name": "python3"
  },
  "language_info": {
   "codemirror_mode": {
    "name": "ipython",
    "version": 3
   },
   "file_extension": ".py",
   "mimetype": "text/x-python",
   "name": "python",
   "nbconvert_exporter": "python",
   "pygments_lexer": "ipython3",
   "version": "3.6.3"
  }
 },
 "nbformat": 4,
 "nbformat_minor": 2
}
